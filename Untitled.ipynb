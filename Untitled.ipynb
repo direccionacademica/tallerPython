{
 "cells": [
  {
   "cell_type": "code",
   "execution_count": 1,
   "metadata": {},
   "outputs": [],
   "source": [
    "# Bienvenidos a BIT Esto es un comentario en Python de una linea"
   ]
  },
  {
   "cell_type": "code",
   "execution_count": null,
   "metadata": {
    "scrolled": false
   },
   "outputs": [],
   "source": [
    "# Operaciones básicas\n",
    "\n",
    "# Suma\n",
    "7 + 7"
   ]
  },
  {
   "cell_type": "code",
   "execution_count": null,
   "metadata": {},
   "outputs": [],
   "source": [
    "# Resta\n",
    "7 - 8"
   ]
  },
  {
   "cell_type": "code",
   "execution_count": null,
   "metadata": {},
   "outputs": [],
   "source": [
    "# Multiplicación\n",
    "7 * 7"
   ]
  },
  {
   "cell_type": "code",
   "execution_count": null,
   "metadata": {},
   "outputs": [],
   "source": [
    "# División\n",
    "7 / 2"
   ]
  },
  {
   "cell_type": "code",
   "execution_count": null,
   "metadata": {},
   "outputs": [],
   "source": [
    "# Caso especial de división (En versiones anteriores de python no funcionaba)\n",
    "#7.0 / 0"
   ]
  },
  {
   "cell_type": "code",
   "execution_count": null,
   "metadata": {},
   "outputs": [],
   "source": [
    "# A la potencia\n",
    "3 ** 3\n",
    "3 ** .3"
   ]
  },
  {
   "cell_type": "code",
   "execution_count": null,
   "metadata": {},
   "outputs": [],
   "source": [
    "# La multiplicación va primero que la suma (Algebra basica)\n",
    "7 + 10 * 7"
   ]
  },
  {
   "cell_type": "code",
   "execution_count": null,
   "metadata": {},
   "outputs": [],
   "source": [
    "# Los parentecis se ejecutan primero\n",
    "(10 + 7) * 7"
   ]
  },
  {
   "cell_type": "markdown",
   "metadata": {},
   "source": [
    "# Textos"
   ]
  },
  {
   "cell_type": "markdown",
   "metadata": {},
   "source": [
    "Ejemplo mark"
   ]
  },
  {
   "cell_type": "code",
   "execution_count": null,
   "metadata": {},
   "outputs": [],
   "source": [
    "# Texto\n",
    "\n",
    "#Texto con comillas\n",
    "\"Hola BIT\""
   ]
  },
  {
   "cell_type": "code",
   "execution_count": null,
   "metadata": {},
   "outputs": [],
   "source": [
    "# Texto sin comillas\n",
    "Hola BIT"
   ]
  },
  {
   "cell_type": "code",
   "execution_count": null,
   "metadata": {},
   "outputs": [],
   "source": [
    "# Texto comilla simple\n",
    "'Hola BIT'"
   ]
  },
  {
   "cell_type": "code",
   "execution_count": null,
   "metadata": {},
   "outputs": [],
   "source": [
    "# Texto comilla simple fallando por Ingles\n",
    "# 'Hello is'nt BIT"
   ]
  },
  {
   "cell_type": "code",
   "execution_count": null,
   "metadata": {},
   "outputs": [],
   "source": [
    "# la manera mas optima es con comilla doble\n",
    "\"hello is'nt BIT\""
   ]
  },
  {
   "cell_type": "code",
   "execution_count": null,
   "metadata": {},
   "outputs": [],
   "source": [
    "# Imprimiendo Mensaje\n",
    "print(\"Bienvenidos al Bootcamp\")"
   ]
  },
  {
   "cell_type": "code",
   "execution_count": null,
   "metadata": {},
   "outputs": [],
   "source": [
    "# Imprimiendo Mensaje con espaciado (tabulado)\n",
    "print(\"\\tBienvenidos al Bootcamp\")"
   ]
  },
  {
   "cell_type": "code",
   "execution_count": null,
   "metadata": {},
   "outputs": [],
   "source": [
    "# Salto de linea en texto\n",
    "print(\"Selecciona una opcion\")\n",
    "print(\"\\n A - Opcion 1 \\n B - Opcion 2\")"
   ]
  },
  {
   "cell_type": "code",
   "execution_count": null,
   "metadata": {},
   "outputs": [],
   "source": [
    "# Concatenar texto\n",
    "print(\"hola\" + \"como estan\")\n",
    "# Concatenar texto con espacio\n",
    "print(\"hola \" + \"como estan\")\n",
    "# Concatenar texto y concatenar espacio\n",
    "print(\"hola\" + \" \" + \"como estan\")"
   ]
  },
  {
   "cell_type": "code",
   "execution_count": null,
   "metadata": {},
   "outputs": [],
   "source": [
    "# Texto como titulo\n",
    "print(\"hola \" + \"como estan\".title())"
   ]
  },
  {
   "cell_type": "code",
   "execution_count": null,
   "metadata": {},
   "outputs": [],
   "source": [
    "# Solicitar datos al usuario\n",
    "input(\"ingresa tu nombre\")"
   ]
  },
  {
   "cell_type": "code",
   "execution_count": null,
   "metadata": {},
   "outputs": [],
   "source": [
    "# Variables\n",
    "nombre = \"pepe\"\n",
    "nombre2 = \"PEPA\""
   ]
  },
  {
   "cell_type": "code",
   "execution_count": null,
   "metadata": {},
   "outputs": [],
   "source": [
    "# Convertir a Mayusculas\n",
    "print(nombre2.lower())\n",
    "# Convertir a Minusculas\n",
    "print(nombre.upper())"
   ]
  },
  {
   "cell_type": "code",
   "execution_count": 1,
   "metadata": {},
   "outputs": [
    {
     "name": "stdout",
     "output_type": "stream",
     "text": [
      "ingresa un día de la semanalunes\n",
      "dia entre semana\n"
     ]
    }
   ],
   "source": [
    "sem=[\"lunes\",\"martes\",\"miercoles\",\"jueves\"]\n",
    "fds=[\"sabado\",\"domingo\"]\n",
    "dia = input(\"ingresa un día de la semana\").lower()\n",
    "if dia in sem:\n",
    "    print(\"dia entre semana\")\n",
    "elif dia in fds:\n",
    "    print(\"es fin de semana\")\n"
   ]
  },
  {
   "cell_type": "code",
   "execution_count": null,
   "metadata": {},
   "outputs": [],
   "source": []
  }
 ],
 "metadata": {
  "kernelspec": {
   "display_name": "Python 3",
   "language": "python",
   "name": "python3"
  },
  "language_info": {
   "codemirror_mode": {
    "name": "ipython",
    "version": 3
   },
   "file_extension": ".py",
   "mimetype": "text/x-python",
   "name": "python",
   "nbconvert_exporter": "python",
   "pygments_lexer": "ipython3",
   "version": "3.7.4"
  }
 },
 "nbformat": 4,
 "nbformat_minor": 2
}
